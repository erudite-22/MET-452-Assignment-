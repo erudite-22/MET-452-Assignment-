{
 "cells": [
  {
   "cell_type": "code",
   "execution_count": 1,
   "id": "b0679209",
   "metadata": {},
   "outputs": [],
   "source": [
    "import numpy as np"
   ]
  },
  {
   "cell_type": "code",
   "execution_count": 2,
   "id": "5934137e",
   "metadata": {},
   "outputs": [],
   "source": [
    "# Sample observational data (in degrees Celsius)\n",
    "observations = np.array([15.2, 16.1, 14.5, 15.8, 25.0])\n",
    "\n",
    "# Sample model predictions (in degrees Celsius)\n",
    "model_output = np.array([14.8, 15.5, 14.0, 16.0, 25.3])"
   ]
  },
  {
   "cell_type": "code",
   "execution_count": 3,
   "id": "18b874dd",
   "metadata": {},
   "outputs": [],
   "source": [
    "# Simple Optimal Interpolation (OI) Data Assimilation\n",
    "def optimal_interpolation(obs, model, obs_error, model_error):\n",
    "    # Compute the weights for the observations and model\n",
    "    weight_obs = model_error**2 / (model_error**2 + obs_error**2)\n",
    "    weight_model = obs_error**2 / (model_error**2 + obs_error**2)\n",
    "    \n",
    "    # Analysis is a weighted combination of observations and model output\n",
    "    analysis = weight_obs * obs + weight_model * model\n",
    "    return analysis"
   ]
  },
  {
   "cell_type": "code",
   "execution_count": 4,
   "id": "b09be965",
   "metadata": {},
   "outputs": [],
   "source": [
    "# Assuming observation error and model error are known\n",
    "obs_error = 0.5\n",
    "model_error = 1.0"
   ]
  },
  {
   "cell_type": "code",
   "execution_count": 5,
   "id": "9ccbd0aa",
   "metadata": {},
   "outputs": [],
   "source": [
    "# Calculate analysis fields using Optimal Interpolation\n",
    "analysis = optimal_interpolation(observations, model_output, obs_error, model_error)"
   ]
  },
  {
   "cell_type": "code",
   "execution_count": 6,
   "id": "5daa9db6",
   "metadata": {},
   "outputs": [],
   "source": [
    "# Function to calculate RMSE\n",
    "def rmse(a, b):\n",
    "    return np.sqrt(np.mean((a - b) ** 2))"
   ]
  },
  {
   "cell_type": "code",
   "execution_count": 7,
   "id": "6d9e2e1a",
   "metadata": {},
   "outputs": [],
   "source": [
    "# Function to calculate bias\n",
    "def bias(a, b):\n",
    "    return np.mean(a - b)"
   ]
  },
  {
   "cell_type": "code",
   "execution_count": 8,
   "id": "63dce1fa",
   "metadata": {},
   "outputs": [],
   "source": [
    "# Calculate RMSE and bias\n",
    "rmse_model_obs = rmse(model_output, observations)\n",
    "rmse_analysis_obs = rmse(analysis, observations)\n",
    "bias_model_obs = bias(model_output, observations)\n",
    "bias_analysis_obs = bias(analysis, observations)"
   ]
  },
  {
   "cell_type": "code",
   "execution_count": 9,
   "id": "315c7661",
   "metadata": {},
   "outputs": [
    {
     "name": "stdout",
     "output_type": "stream",
     "text": [
      "Observations:  [15.2 16.1 14.5 15.8 25. ]\n",
      "Model Output:  [14.8 15.5 14.  16.  25.3]\n",
      "Analysis:  [15.12 15.98 14.4  15.84 25.06]\n",
      "\n",
      "RMSE and Bias Comparison:\n",
      "RMSE (Model vs Observations): 0.42\n",
      "RMSE (Analysis vs Observations): 0.08\n",
      "Bias (Model vs Observations): -0.20\n",
      "Bias (Analysis vs Observations): -0.04\n"
     ]
    }
   ],
   "source": [
    "# Print results\n",
    "print(\"Observations: \", observations)\n",
    "print(\"Model Output: \", model_output)\n",
    "print(\"Analysis: \", analysis)\n",
    "print(\"\\nRMSE and Bias Comparison:\")\n",
    "print(f\"RMSE (Model vs Observations): {rmse_model_obs:.2f}\")\n",
    "print(f\"RMSE (Analysis vs Observations): {rmse_analysis_obs:.2f}\")\n",
    "print(f\"Bias (Model vs Observations): {bias_model_obs:.2f}\")\n",
    "print(f\"Bias (Analysis vs Observations): {bias_analysis_obs:.2f}\")"
   ]
  },
  {
   "cell_type": "code",
   "execution_count": null,
   "id": "828d30f9",
   "metadata": {},
   "outputs": [],
   "source": [
    "\n"
   ]
  }
 ],
 "metadata": {
  "kernelspec": {
   "display_name": "Python 3 (ipykernel)",
   "language": "python",
   "name": "python3"
  },
  "language_info": {
   "codemirror_mode": {
    "name": "ipython",
    "version": 3
   },
   "file_extension": ".py",
   "mimetype": "text/x-python",
   "name": "python",
   "nbconvert_exporter": "python",
   "pygments_lexer": "ipython3",
   "version": "3.11.5"
  }
 },
 "nbformat": 4,
 "nbformat_minor": 5
}
